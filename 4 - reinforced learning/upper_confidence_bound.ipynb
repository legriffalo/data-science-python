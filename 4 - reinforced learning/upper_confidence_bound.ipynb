{
 "cells": [
  {
   "cell_type": "markdown",
   "metadata": {
    "colab_type": "text",
    "id": "QJdrJJQUv3-k"
   },
   "source": [
    "# Upper Confidence Bound (UCB)"
   ]
  },
  {
   "cell_type": "markdown",
   "metadata": {
    "colab_type": "text",
    "id": "2XCjepjJwEv-"
   },
   "source": [
    "## Importing the libraries"
   ]
  },
  {
   "cell_type": "code",
   "execution_count": 2,
   "metadata": {
    "colab": {},
    "colab_type": "code",
    "id": "l_mBkG3YwNTt"
   },
   "outputs": [],
   "source": [
    "import numpy as np\n",
    "import matplotlib.pyplot as plt\n",
    "import pandas as pd"
   ]
  },
  {
   "cell_type": "markdown",
   "metadata": {
    "colab_type": "text",
    "id": "npqlXjaNwYTv"
   },
   "source": [
    "## Importing the dataset"
   ]
  },
  {
   "cell_type": "code",
   "execution_count": 5,
   "metadata": {
    "colab": {},
    "colab_type": "code",
    "id": "HMJfUVLVwcFc"
   },
   "outputs": [
    {
     "data": {
      "text/plain": [
       "(10000, 10)"
      ]
     },
     "execution_count": 5,
     "metadata": {},
     "output_type": "execute_result"
    }
   ],
   "source": [
    "# data set is columns showiung succes vs failure 0 vs 1\n",
    "dataset = pd.read_csv('Ads_CTR_Optimisation.csv')\n",
    "dataset.head()\n",
    "dataset.shape"
   ]
  },
  {
   "cell_type": "markdown",
   "metadata": {
    "colab_type": "text",
    "id": "PaSbots_wfoB"
   },
   "source": [
    "## Implementing UCB"
   ]
  },
  {
   "cell_type": "code",
   "execution_count": 34,
   "metadata": {},
   "outputs": [
    {
     "data": {
      "text/plain": [
       "1e+200"
      ]
     },
     "execution_count": 34,
     "metadata": {},
     "output_type": "execute_result"
    }
   ],
   "source": [
    "1e200"
   ]
  },
  {
   "cell_type": "code",
   "execution_count": 70,
   "metadata": {},
   "outputs": [],
   "source": [
    "import math\n",
    "# number of rounds of testing\n",
    "rounds = 10000\n",
    "# number of ads(methods) in dataset\n",
    "no_methods = 10\n",
    "\n",
    "# list to store the tested ads\n",
    "ads_tested = []\n",
    "\n",
    "#initialise times selected with a list of 10 0s\n",
    "times_selected =[0]*no_methods\n",
    "\n",
    "# initialise list to store sum of rewards as a list of 10 0s\n",
    "sum_of_rewards = [0]*no_methods \n",
    "\n",
    "total_reward = 0\n",
    "\n",
    "all_array = [[]]\n",
    "best_array = [[]]\n",
    "\n",
    "for n in range(0,rounds):\n",
    "    #n iterator is the selection round 1-10000\n",
    "    method = 0\n",
    "    #keeps track of which bound is highest\n",
    "    max_upper_bound = 0\n",
    "    for i in range(0,no_methods):\n",
    "        #iterator i is the method used 1-10\n",
    "        #check if an add got clicked\n",
    "        if(times_selected[i]>0):\n",
    "            # calculate the required metrics\n",
    "            #average reward\n",
    "            average_reward = sums_of_rewards[i]/times_selected[i]\n",
    "            # claculate UCB\n",
    "            delta_i = math.sqrt(3/2*math.log(n+1))/times_selected[i]\n",
    "            upper_bound = average_reward + delta_i\n",
    "            \n",
    "            \n",
    "        else:\n",
    "            #set arbitrary starting UCB make it huge so that 1 algorithm doesn't dominate\n",
    "            upper_bound = 1e400\n",
    "            \n",
    "        if upper_bound > max_upper_bound:\n",
    "            #set new max UCB\n",
    "            max_upper_bound = upper_bound\n",
    "            #select method i to retest\n",
    "            method = i\n",
    "    best_array.append([method,upper_bound,times_selected[method]])\n",
    "            \n",
    "    ads_tested.append(method)\n",
    "    times_selected[method] = times_selected[method]+1\n",
    "    reward = dataset.values[n,method]\n",
    "    sum_of_rewards[method] = sum_of_rewards[method]+reward\n",
    "    total_reward = total_reward + reward\n",
    "    all_array.append([method,reward,upper_bound, times_selected[i]])\n",
    "\n",
    "#pd.DataFrame(all_array, columns = ['method_selected','reward earned','UCB_found','times_selected'])"
   ]
  },
  {
   "cell_type": "code",
   "execution_count": 71,
   "metadata": {},
   "outputs": [
    {
     "data": {
      "text/html": [
       "<div>\n",
       "<style scoped>\n",
       "    .dataframe tbody tr th:only-of-type {\n",
       "        vertical-align: middle;\n",
       "    }\n",
       "\n",
       "    .dataframe tbody tr th {\n",
       "        vertical-align: top;\n",
       "    }\n",
       "\n",
       "    .dataframe thead th {\n",
       "        text-align: right;\n",
       "    }\n",
       "</style>\n",
       "<table border=\"1\" class=\"dataframe\">\n",
       "  <thead>\n",
       "    <tr style=\"text-align: right;\">\n",
       "      <th></th>\n",
       "      <th>best_method</th>\n",
       "      <th>UCB_found</th>\n",
       "      <th>times_selected</th>\n",
       "    </tr>\n",
       "  </thead>\n",
       "  <tbody>\n",
       "    <tr>\n",
       "      <th>9996</th>\n",
       "      <td>4.0</td>\n",
       "      <td>0.218711</td>\n",
       "      <td>7571.0</td>\n",
       "    </tr>\n",
       "    <tr>\n",
       "      <th>9997</th>\n",
       "      <td>0.0</td>\n",
       "      <td>0.218711</td>\n",
       "      <td>558.0</td>\n",
       "    </tr>\n",
       "    <tr>\n",
       "      <th>9998</th>\n",
       "      <td>4.0</td>\n",
       "      <td>0.218712</td>\n",
       "      <td>7572.0</td>\n",
       "    </tr>\n",
       "    <tr>\n",
       "      <th>9999</th>\n",
       "      <td>4.0</td>\n",
       "      <td>0.218712</td>\n",
       "      <td>7573.0</td>\n",
       "    </tr>\n",
       "    <tr>\n",
       "      <th>10000</th>\n",
       "      <td>8.0</td>\n",
       "      <td>0.218713</td>\n",
       "      <td>107.0</td>\n",
       "    </tr>\n",
       "  </tbody>\n",
       "</table>\n",
       "</div>"
      ],
      "text/plain": [
       "       best_method  UCB_found  times_selected\n",
       "9996           4.0   0.218711          7571.0\n",
       "9997           0.0   0.218711           558.0\n",
       "9998           4.0   0.218712          7572.0\n",
       "9999           4.0   0.218712          7573.0\n",
       "10000          8.0   0.218713           107.0"
      ]
     },
     "execution_count": 71,
     "metadata": {},
     "output_type": "execute_result"
    }
   ],
   "source": [
    "df = pd.DataFrame(best_array, columns = ['best_method','UCB_found','times_selected'])\n",
    "#df[df['best_method']==0]\n",
    "df.tail()"
   ]
  },
  {
   "cell_type": "code",
   "execution_count": 72,
   "metadata": {},
   "outputs": [
    {
     "data": {
      "text/plain": [
       "<AxesSubplot:>"
      ]
     },
     "execution_count": 72,
     "metadata": {},
     "output_type": "execute_result"
    },
    {
     "data": {
      "image/png": "[encoded data removed]",
      "text/plain": [
       "<Figure size 432x288 with 1 Axes>"
      ]
     },
     "metadata": {
      "needs_background": "light"
     },
     "output_type": "display_data"
    }
   ],
   "source": [
    "df['best_method'].hist()"
   ]
  },
  {
   "cell_type": "code",
   "execution_count": 73,
   "metadata": {},
   "outputs": [
    {
     "data": {
      "text/plain": [
       "2464"
      ]
     },
     "execution_count": 73,
     "metadata": {},
     "output_type": "execute_result"
    }
   ],
   "source": [
    "total_reward"
   ]
  },
  {
   "cell_type": "code",
   "execution_count": null,
   "metadata": {},
   "outputs": [],
   "source": []
  }
 ],
 "metadata": {
  "colab": {
   "authorship_tag": "ABX9TyMz+roSgJuEsprRsPKmwoVD",
   "collapsed_sections": [],
   "name": "Upper Confidence Bound",
   "provenance": [],
   "toc_visible": true
  },
  "kernelspec": {
   "display_name": "Python 3",
   "language": "python",
   "name": "python3"
  },
  "language_info": {
   "codemirror_mode": {
    "name": "ipython",
    "version": 3
   },
   "file_extension": ".py",
   "mimetype": "text/x-python",
   "name": "python",
   "nbconvert_exporter": "python",
   "pygments_lexer": "ipython3",
   "version": "3.8.5"
  }
 },
 "nbformat": 4,
 "nbformat_minor": 1
}
